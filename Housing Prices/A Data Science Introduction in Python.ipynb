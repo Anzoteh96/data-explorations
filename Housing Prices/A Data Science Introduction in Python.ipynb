{
 "cells": [
  {
   "cell_type": "markdown",
   "metadata": {},
   "source": [
    "# The goal\n",
    "\n",
    "- Get familiar with the process\n",
    "- Be _exposed_ to common problems and techniques\n",
    "- Learn about bias"
   ]
  },
  {
   "cell_type": "markdown",
   "metadata": {},
   "source": [
    "# The efficient data scientist\n",
    "\n",
    "Data science, oversimplified, can be though of as two classes of work, _Algorithms_ and _Analytics_. While analytics may not be doing algorithm design or complex modeling, those who are implementing these algorithms on real data often find themselves analyzing data. They need to understand the biases their models have and confirm that the data is approporiate for the model.\n",
    "\n",
    "**Ex:** [Google's Waze Navigation Rerouting AI Directed Drivers Through Raging California Wildfires](https://hothardware.com/news/google-waze-navigation-rerouting-ai-directed-drivers-into-california-wildfires)\n",
    "\n",
    "**Exercise:** In World War II, the US Navy wanted to minimize bomber losses due to enemy fire. Researchers conducted a study on planes that returned from battle. Judging from the sample picture, where should more armour be added to the plane? Note the red dots represent bullet holes.\n",
    "\n",
    "![](images/survivorship_bias.png)\n",
    "\n",
    "[Answer](https://en.wikipedia.org/wiki/Survivorship_bias#In_the_military)\n",
    "\n",
    "# What is the difference?\n",
    "\n",
    "**Analytics:** Studying the business's data and making recommendations, understanding experiments to improve operations and product. This type of data science is about transforming businesses using insights.\n",
    "\n",
    "**Algorithms:** Using machine learning and statistics to build tools. Here, the service or model is the product.\n",
    "\n",
    "Even within the realm of algorithms and machine learning, to make best models, we need to understand the requirements of the data for models to succeed and to confirm these models. For example, take Anscombe's Quartet.\n",
    "\n",
    "![](images/ascombes_quartet.png)\n",
    "\n",
    "It turns out that the descriptive statistics (ie. quantiles, correlation, r squared of a linear model) on the data are all the same. This is a common pitfall that occur when we try modeling without... practising safe statistics.\n",
    "\n",
    "# What we're doing today\n",
    "\n",
    "There are many problems in machine learning, in this workshop we'll go through a couple but very common ones. \n",
    "\n",
    "At the end of the day, we want to predict some kind of value using some labeled data and a model. Labeled data means that whatever response we want to predict, we know the corresponding predictor values that came along with it (ex. # hours studied vs grade on test). These types of problems are known as **supervised learning**.\n",
    "\n",
    "By model, we are talking about some kind of algorithm that can capture the trends of the data. A very common one you are all probably familar with is a line of best fit, or generally known as **linear regression**.\n",
    "\n",
    "When we predict data that is _continuous_ (ex. grades, income), are called **regression** problems. If we want to predict some kind of _categorical_ value (ex. Is this a square or a circle?), it becomes a **classification** problem. \n",
    "\n",
    "We'll be using a housing prices data set to predict the sale price of a houses located in Ames, Iowa. You can get more information on the dataset on [Kaggle](https://www.kaggle.com/c/house-prices-advanced-regression-techniques/data).\n",
    "\n",
    "A very powerful tool that we have at our disposal is our notebook (such as this one), we can show code and write our thoughts at the same time to communicate our findings.\n",
    "\n",
    "> To format the text in a cell, we use Markdown. It's something you can learn 30 minutes and a great asset to have to make your notebooks pretty!\n",
    "\n",
    "> To learn more about the topics that interest you, Google the topics that are in bold\n",
    "\n",
    "> Do exercises to enchance your understanding!\n",
    "\n",
    "# In practice...\n",
    "\n",
    "It's not very difficult to import a neural network and have it learn from the data.\n",
    "![](images/naive_code.png)\n",
    "\n",
    "However when I try to make predictions on the data, I only ranked 3190 / 3437 on the Kaggle leaderboard in terms of the \"accuracy\" in my predictions.\n",
    "\n",
    "![](images/naive_submission_ranking.png)\n",
    "\n",
    "So let's actually start playing around with our data, but first we need to include some of our tools into our workspace."
   ]
  },
  {
   "cell_type": "code",
   "execution_count": 233,
   "metadata": {
    "collapsed": true
   },
   "outputs": [],
   "source": [
    "import os\n",
    "import pandas as pd # Importing and managing our data\n",
    "import numpy as np  # Nice linear algebra functions\n",
    "import matplotlib.pyplot as plt  # For making visualaizations\n",
    "import seaborn as sns # More visualization tools\n",
    "\n",
    "# Tell Jupyter Notebook to display our graphs automatically\n",
    "%matplotlib inline \n",
    "import warnings\n",
    "warnings.filterwarnings('ignore')"
   ]
  },
  {
   "cell_type": "markdown",
   "metadata": {},
   "source": [
    "The next thing to do is to import our data into a table called a \"data frame\"."
   ]
  },
  {
   "cell_type": "code",
   "execution_count": 124,
   "metadata": {
    "collapsed": true
   },
   "outputs": [],
   "source": [
    "housing_df = pd.read_csv(os.path.join(\"data\", \"train.csv\"))"
   ]
  },
  {
   "cell_type": "markdown",
   "metadata": {},
   "source": [
    "We can see that we have 1460 rows (each observation of data) and 81 columns (usually a variable / predictor)."
   ]
  },
  {
   "cell_type": "code",
   "execution_count": 125,
   "metadata": {},
   "outputs": [
    {
     "data": {
      "text/plain": [
       "(1460, 81)"
      ]
     },
     "execution_count": 125,
     "metadata": {},
     "output_type": "execute_result"
    }
   ],
   "source": [
    "housing_df.shape"
   ]
  },
  {
   "cell_type": "markdown",
   "metadata": {},
   "source": [
    "We can take a peek at the first 5 observations to see what we're up against using the `head()` method. Notice that all 81 columns don't fit in the ouput."
   ]
  },
  {
   "cell_type": "code",
   "execution_count": 126,
   "metadata": {},
   "outputs": [
    {
     "data": {
      "text/html": [
       "<div>\n",
       "<style>\n",
       "    .dataframe thead tr:only-child th {\n",
       "        text-align: right;\n",
       "    }\n",
       "\n",
       "    .dataframe thead th {\n",
       "        text-align: left;\n",
       "    }\n",
       "\n",
       "    .dataframe tbody tr th {\n",
       "        vertical-align: top;\n",
       "    }\n",
       "</style>\n",
       "<table border=\"1\" class=\"dataframe\">\n",
       "  <thead>\n",
       "    <tr style=\"text-align: right;\">\n",
       "      <th></th>\n",
       "      <th>Id</th>\n",
       "      <th>MSSubClass</th>\n",
       "      <th>MSZoning</th>\n",
       "      <th>LotFrontage</th>\n",
       "      <th>LotArea</th>\n",
       "      <th>Street</th>\n",
       "      <th>Alley</th>\n",
       "      <th>LotShape</th>\n",
       "      <th>LandContour</th>\n",
       "      <th>Utilities</th>\n",
       "      <th>...</th>\n",
       "      <th>PoolArea</th>\n",
       "      <th>PoolQC</th>\n",
       "      <th>Fence</th>\n",
       "      <th>MiscFeature</th>\n",
       "      <th>MiscVal</th>\n",
       "      <th>MoSold</th>\n",
       "      <th>YrSold</th>\n",
       "      <th>SaleType</th>\n",
       "      <th>SaleCondition</th>\n",
       "      <th>SalePrice</th>\n",
       "    </tr>\n",
       "  </thead>\n",
       "  <tbody>\n",
       "    <tr>\n",
       "      <th>0</th>\n",
       "      <td>1</td>\n",
       "      <td>60</td>\n",
       "      <td>RL</td>\n",
       "      <td>65.0</td>\n",
       "      <td>8450</td>\n",
       "      <td>Pave</td>\n",
       "      <td>NaN</td>\n",
       "      <td>Reg</td>\n",
       "      <td>Lvl</td>\n",
       "      <td>AllPub</td>\n",
       "      <td>...</td>\n",
       "      <td>0</td>\n",
       "      <td>NaN</td>\n",
       "      <td>NaN</td>\n",
       "      <td>NaN</td>\n",
       "      <td>0</td>\n",
       "      <td>2</td>\n",
       "      <td>2008</td>\n",
       "      <td>WD</td>\n",
       "      <td>Normal</td>\n",
       "      <td>208500</td>\n",
       "    </tr>\n",
       "    <tr>\n",
       "      <th>1</th>\n",
       "      <td>2</td>\n",
       "      <td>20</td>\n",
       "      <td>RL</td>\n",
       "      <td>80.0</td>\n",
       "      <td>9600</td>\n",
       "      <td>Pave</td>\n",
       "      <td>NaN</td>\n",
       "      <td>Reg</td>\n",
       "      <td>Lvl</td>\n",
       "      <td>AllPub</td>\n",
       "      <td>...</td>\n",
       "      <td>0</td>\n",
       "      <td>NaN</td>\n",
       "      <td>NaN</td>\n",
       "      <td>NaN</td>\n",
       "      <td>0</td>\n",
       "      <td>5</td>\n",
       "      <td>2007</td>\n",
       "      <td>WD</td>\n",
       "      <td>Normal</td>\n",
       "      <td>181500</td>\n",
       "    </tr>\n",
       "    <tr>\n",
       "      <th>2</th>\n",
       "      <td>3</td>\n",
       "      <td>60</td>\n",
       "      <td>RL</td>\n",
       "      <td>68.0</td>\n",
       "      <td>11250</td>\n",
       "      <td>Pave</td>\n",
       "      <td>NaN</td>\n",
       "      <td>IR1</td>\n",
       "      <td>Lvl</td>\n",
       "      <td>AllPub</td>\n",
       "      <td>...</td>\n",
       "      <td>0</td>\n",
       "      <td>NaN</td>\n",
       "      <td>NaN</td>\n",
       "      <td>NaN</td>\n",
       "      <td>0</td>\n",
       "      <td>9</td>\n",
       "      <td>2008</td>\n",
       "      <td>WD</td>\n",
       "      <td>Normal</td>\n",
       "      <td>223500</td>\n",
       "    </tr>\n",
       "    <tr>\n",
       "      <th>3</th>\n",
       "      <td>4</td>\n",
       "      <td>70</td>\n",
       "      <td>RL</td>\n",
       "      <td>60.0</td>\n",
       "      <td>9550</td>\n",
       "      <td>Pave</td>\n",
       "      <td>NaN</td>\n",
       "      <td>IR1</td>\n",
       "      <td>Lvl</td>\n",
       "      <td>AllPub</td>\n",
       "      <td>...</td>\n",
       "      <td>0</td>\n",
       "      <td>NaN</td>\n",
       "      <td>NaN</td>\n",
       "      <td>NaN</td>\n",
       "      <td>0</td>\n",
       "      <td>2</td>\n",
       "      <td>2006</td>\n",
       "      <td>WD</td>\n",
       "      <td>Abnorml</td>\n",
       "      <td>140000</td>\n",
       "    </tr>\n",
       "    <tr>\n",
       "      <th>4</th>\n",
       "      <td>5</td>\n",
       "      <td>60</td>\n",
       "      <td>RL</td>\n",
       "      <td>84.0</td>\n",
       "      <td>14260</td>\n",
       "      <td>Pave</td>\n",
       "      <td>NaN</td>\n",
       "      <td>IR1</td>\n",
       "      <td>Lvl</td>\n",
       "      <td>AllPub</td>\n",
       "      <td>...</td>\n",
       "      <td>0</td>\n",
       "      <td>NaN</td>\n",
       "      <td>NaN</td>\n",
       "      <td>NaN</td>\n",
       "      <td>0</td>\n",
       "      <td>12</td>\n",
       "      <td>2008</td>\n",
       "      <td>WD</td>\n",
       "      <td>Normal</td>\n",
       "      <td>250000</td>\n",
       "    </tr>\n",
       "  </tbody>\n",
       "</table>\n",
       "<p>5 rows × 81 columns</p>\n",
       "</div>"
      ],
      "text/plain": [
       "   Id  MSSubClass MSZoning  LotFrontage  LotArea Street Alley LotShape  \\\n",
       "0   1          60       RL         65.0     8450   Pave   NaN      Reg   \n",
       "1   2          20       RL         80.0     9600   Pave   NaN      Reg   \n",
       "2   3          60       RL         68.0    11250   Pave   NaN      IR1   \n",
       "3   4          70       RL         60.0     9550   Pave   NaN      IR1   \n",
       "4   5          60       RL         84.0    14260   Pave   NaN      IR1   \n",
       "\n",
       "  LandContour Utilities    ...     PoolArea PoolQC Fence MiscFeature MiscVal  \\\n",
       "0         Lvl    AllPub    ...            0    NaN   NaN         NaN       0   \n",
       "1         Lvl    AllPub    ...            0    NaN   NaN         NaN       0   \n",
       "2         Lvl    AllPub    ...            0    NaN   NaN         NaN       0   \n",
       "3         Lvl    AllPub    ...            0    NaN   NaN         NaN       0   \n",
       "4         Lvl    AllPub    ...            0    NaN   NaN         NaN       0   \n",
       "\n",
       "  MoSold YrSold  SaleType  SaleCondition  SalePrice  \n",
       "0      2   2008        WD         Normal     208500  \n",
       "1      5   2007        WD         Normal     181500  \n",
       "2      9   2008        WD         Normal     223500  \n",
       "3      2   2006        WD        Abnorml     140000  \n",
       "4     12   2008        WD         Normal     250000  \n",
       "\n",
       "[5 rows x 81 columns]"
      ]
     },
     "execution_count": 126,
     "metadata": {},
     "output_type": "execute_result"
    }
   ],
   "source": [
    "housing_df.head()"
   ]
  },
  {
   "cell_type": "markdown",
   "metadata": {},
   "source": [
    "Thus we can just manually output the keys that we're working with. `SalePrice` is the variable that we want to predict using everything else here.\n",
    "\n",
    "**NOTE:** Not all data will always be labeled so nicely. It is always ideal but I have worked with a dataset where I was not given any labels at all and had to guess them.\n",
    "\n",
    "**NOTE 2:** `Id` isn't actually something we can use to predict, it's our way of keeping track of our observations. Some datasets have you work with multiple dataframes, and `Id` helps you link them together."
   ]
  },
  {
   "cell_type": "code",
   "execution_count": 183,
   "metadata": {},
   "outputs": [
    {
     "data": {
      "text/plain": [
       "Index(['Id', 'MSSubClass', 'MSZoning', 'LotFrontage', 'LotArea', 'Street',\n",
       "       'Alley', 'LotShape', 'LandContour', 'Utilities', 'LotConfig',\n",
       "       'LandSlope', 'Neighborhood', 'Condition1', 'Condition2', 'BldgType',\n",
       "       'HouseStyle', 'OverallQual', 'OverallCond', 'YearBuilt', 'YearRemodAdd',\n",
       "       'RoofStyle', 'RoofMatl', 'Exterior1st', 'Exterior2nd', 'MasVnrType',\n",
       "       'MasVnrArea', 'ExterQual', 'ExterCond', 'Foundation', 'BsmtQual',\n",
       "       'BsmtCond', 'BsmtExposure', 'BsmtFinType1', 'BsmtFinSF1',\n",
       "       'BsmtFinType2', 'BsmtFinSF2', 'BsmtUnfSF', 'TotalBsmtSF', 'Heating',\n",
       "       'HeatingQC', 'CentralAir', 'Electrical', '1stFlrSF', '2ndFlrSF',\n",
       "       'LowQualFinSF', 'GrLivArea', 'BsmtFullBath', 'BsmtHalfBath', 'FullBath',\n",
       "       'HalfBath', 'BedroomAbvGr', 'KitchenAbvGr', 'KitchenQual',\n",
       "       'TotRmsAbvGrd', 'Functional', 'Fireplaces', 'FireplaceQu', 'GarageType',\n",
       "       'GarageYrBlt', 'GarageFinish', 'GarageCars', 'GarageArea', 'GarageQual',\n",
       "       'GarageCond', 'PavedDrive', 'WoodDeckSF', 'OpenPorchSF',\n",
       "       'EnclosedPorch', '3SsnPorch', 'ScreenPorch', 'PoolArea', 'PoolQC',\n",
       "       'Fence', 'MiscFeature', 'MiscVal', 'MoSold', 'YrSold', 'SaleType',\n",
       "       'SaleCondition', 'SalePrice'],\n",
       "      dtype='object')"
      ]
     },
     "execution_count": 183,
     "metadata": {},
     "output_type": "execute_result"
    }
   ],
   "source": [
    "housing_df.columns"
   ]
  },
  {
   "cell_type": "markdown",
   "metadata": {},
   "source": [
    "# Splitting up the data\n",
    "\n",
    "Wait a minute! Before we start looking at our data, we want to split it up into 3 different sets: a training set, validation set, and a test set. \n",
    "\n",
    "Why do we do this? Bias! How do we know if our data accurately represents the entire population? For example, there could be data points where some people decided that they felt generous and sold their houses for very low. When we train our model to fit the data, we don't want it to think such \"weird\" occurances actually happen so often, this is known as **overfitting**. Notice in the graph below, ideally we want our model to capture the overall trend (black line) in the data, not the minor things (blue line).\n",
    "\n",
    "![Overfitting](images/overfitting.png)\n",
    "\n",
    "> All models are wrong, but some are useful - George Box\n",
    "\n",
    "So what we do is split the dataset into a training set for us to look at and have the model fit its parameters.The validation set is used for tuning **hyperparameters** for our model and seeing how to overall model performs so far. Hyperparameters are setting you can tune yourself to change how to model behaves, in a neural network, how many layers of \"neurons\" that you have is a hyperparameter. \n",
    "\n",
    "![Hyperparameters](images/nn_layers.jpeg)\n",
    "\n",
    "Once you feel you've made enough adjustments, you can test your model on the test set. **ONLY USE THIS SET ONCE**. If we use it again, we'll be adjusting our model to do really well on this test set but lose our general performance.\n",
    "\n",
    "Luckily Kaggle provides us with a test set, so we'll split this training data into just the training set and validation set.\n",
    "\n",
    "We'll be using a function from the library scikit-learn to help split this data accordingly. By default the data is split 75/25 training, validation respectively.\n",
    "\n",
    "[Read more about how to adjust these splitting settings here](http://scikit-learn.org/stable/modules/generated/sklearn.model_selection.train_test_split.html)"
   ]
  },
  {
   "cell_type": "code",
   "execution_count": 128,
   "metadata": {
    "collapsed": true
   },
   "outputs": [],
   "source": [
    "from sklearn.model_selection import train_test_split"
   ]
  },
  {
   "cell_type": "code",
   "execution_count": 129,
   "metadata": {},
   "outputs": [
    {
     "name": "stdout",
     "output_type": "stream",
     "text": [
      "Training dataframe shape: (1095, 81)\n",
      "Validation dataframe shape: (365, 81)\n"
     ]
    }
   ],
   "source": [
    "train_df, validation_df = train_test_split(housing_df, random_state=42)\n",
    "print(\"Training dataframe shape:\", train_df.shape)\n",
    "print(\"Validation dataframe shape:\", validation_df.shape)"
   ]
  },
  {
   "cell_type": "markdown",
   "metadata": {},
   "source": [
    "Notice the `random_state=42`, this is so that our random split of the data is the same for everyone reading this notebook. That is in general, use this parameter to demonstrate reproducibility.\n",
    "\n",
    "We can now start exploring our data, this phase is called **Exploratory Data Analysis (EDA)**. This is where we take advantage of our visualization tools and descriptive statistics to find insights.\n",
    "\n",
    "The goal for EDA on this dataset is to identify the most influential predictors as 79 (exclude `Id` and `SalePrice`) is way too much for this model. This is known as the **Curse of Dimensionality**. We can do some **feature engineering** to cut down and fine tune this dataset.\n",
    "\n",
    "Let's look at the relationship between features and `SalePrice`, we can do this by looking at the correlations."
   ]
  },
  {
   "cell_type": "code",
   "execution_count": 130,
   "metadata": {},
   "outputs": [
    {
     "data": {
      "text/plain": [
       "SalePrice        1.000000\n",
       "OverallQual      0.785016\n",
       "GrLivArea        0.692972\n",
       "GarageCars       0.643580\n",
       "GarageArea       0.621928\n",
       "TotalBsmtSF      0.593732\n",
       "1stFlrSF         0.583574\n",
       "FullBath         0.550914\n",
       "TotRmsAbvGrd     0.523328\n",
       "YearBuilt        0.519099\n",
       "YearRemodAdd     0.512854\n",
       "GarageYrBlt      0.480037\n",
       "Fireplaces       0.459994\n",
       "MasVnrArea       0.459550\n",
       "BsmtFinSF1       0.359898\n",
       "WoodDeckSF       0.330551\n",
       "LotFrontage      0.328260\n",
       "2ndFlrSF         0.317607\n",
       "OpenPorchSF      0.288251\n",
       "HalfBath         0.280946\n",
       "LotArea          0.265577\n",
       "BsmtFullBath     0.231760\n",
       "BsmtUnfSF        0.222568\n",
       "BedroomAbvGr     0.154896\n",
       "PoolArea         0.118131\n",
       "ScreenPorch      0.115839\n",
       "3SsnPorch        0.054816\n",
       "MoSold           0.043126\n",
       "BsmtFinSF2      -0.001716\n",
       "LowQualFinSF    -0.009295\n",
       "YrSold          -0.010726\n",
       "MiscVal         -0.019789\n",
       "Id              -0.030655\n",
       "BsmtHalfBath    -0.053061\n",
       "OverallCond     -0.076693\n",
       "MSSubClass      -0.089014\n",
       "EnclosedPorch   -0.144342\n",
       "KitchenAbvGr    -0.145757\n",
       "Name: SalePrice, dtype: float64"
      ]
     },
     "execution_count": 130,
     "metadata": {},
     "output_type": "execute_result"
    }
   ],
   "source": [
    "train_df.corr()[\"SalePrice\"].sort_values(ascending=False)"
   ]
  },
  {
   "cell_type": "markdown",
   "metadata": {},
   "source": [
    "## Lot Area vs Sale Price (Outliers)\n",
    "\n",
    "Looking through the set of features, the column `LotArea` stands out. From intuition, the more land area you have, the more expensive your property is. However there seems to only be a correlation of 0.27. We can use a scatter plot to look at the relationship between the `LotArea` and `SalePrice`."
   ]
  },
  {
   "cell_type": "code",
   "execution_count": 131,
   "metadata": {
    "scrolled": true
   },
   "outputs": [
    {
     "data": {
      "image/png": "[encoded data removed]",
      "text/plain": [
       "<matplotlib.figure.Figure at 0x7fb2401286d8>"
      ]
     },
     "metadata": {},
     "output_type": "display_data"
    }
   ],
   "source": [
    "def scatter_lot_vs_sale():\n",
    "    fig = plt.figure()\n",
    "    ax = fig.add_subplot(1, 1, 1)\n",
    "    ax.scatter(train_df[\"LotArea\"], train_df[\"SalePrice\"])\n",
    "    ax.set_xlabel(\"Lot Area [Square Feet]\")\n",
    "    ax.set_ylabel(\"Sale Price [USD]\")\n",
    "    plt.show()\n",
    "scatter_lot_vs_sale()"
   ]
  },
  {
   "cell_type": "markdown",
   "metadata": {},
   "source": [
    "As expected, as `LotArea` tends to increase, so does `SalePrice`. However, while we kind of have a clear trend going on, we do seem to have quite a bit of outliers.\n",
    "\n",
    "From Anscombe's Quartet, we saw how outliers could severely affect the fit of a model. The question is, would it be appropiate to remove them from our dataset?\n",
    "\n",
    "The pandas `describe` method gives you helpful descriptive statistics about some data you want to analyze. In this case, the median house vaue is only 9600 square feet and 75% of the houses have a lot area of less than 11700. "
   ]
  },
  {
   "cell_type": "code",
   "execution_count": 132,
   "metadata": {},
   "outputs": [
    {
     "data": {
      "text/plain": [
       "count      1095.000000\n",
       "mean      10747.046575\n",
       "std       11065.878057\n",
       "min        1300.000000\n",
       "25%        7589.000000\n",
       "50%        9600.000000\n",
       "75%       11700.000000\n",
       "max      215245.000000\n",
       "Name: LotArea, dtype: float64"
      ]
     },
     "execution_count": 132,
     "metadata": {},
     "output_type": "execute_result"
    }
   ],
   "source": [
    "train_df[\"LotArea\"].describe()"
   ]
  },
  {
   "cell_type": "markdown",
   "metadata": {},
   "source": [
    "We can visualize the same thing above using a boxplot, these charts are useful for visualizing the spread of some data."
   ]
  },
  {
   "cell_type": "code",
   "execution_count": 153,
   "metadata": {},
   "outputs": [
    {
     "data": {
      "text/plain": [
       "[Text(0.5,0,'Lot Area [square feet]')]"
      ]
     },
     "execution_count": 153,
     "metadata": {},
     "output_type": "execute_result"
    },
    {
     "data": {
      "image/png": "[encoded data removed]",
      "text/plain": [
       "<matplotlib.figure.Figure at 0x7fb240847550>"
      ]
     },
     "metadata": {},
     "output_type": "display_data"
    }
   ],
   "source": [
    "ax = sns.boxplot(train_df[\"LotArea\"])\n",
    "ax.set(xlabel = \"Lot Area [square feet]\")"
   ]
  },
  {
   "cell_type": "markdown",
   "metadata": {},
   "source": [
    "Why are some lots so huge? One can try looking further into it by looking at the relationship of Lot Area to other features, but for the sake of time we'll just drop anything points greater than 15 000 square feet. This is done using the `query` method.\n",
    "\n",
    "**Exercise:** Use a scatter plot to look at the relationship between `LotArea` and `GrLiveArea` "
   ]
  },
  {
   "cell_type": "code",
   "execution_count": 134,
   "metadata": {},
   "outputs": [],
   "source": [
    "train_df = train_df.query(\"LotArea < 15000\")"
   ]
  },
  {
   "cell_type": "code",
   "execution_count": 135,
   "metadata": {},
   "outputs": [
    {
     "data": {
      "text/plain": [
       "[Text(0.5,0,'Lot Area [square feet]')]"
      ]
     },
     "execution_count": 135,
     "metadata": {},
     "output_type": "execute_result"
    },
    {
     "data": {
      "image/png": "[encoded data removed]",
      "text/plain": [
       "<matplotlib.figure.Figure at 0x7fb240347b38>"
      ]
     },
     "metadata": {},
     "output_type": "display_data"
    }
   ],
   "source": [
    "ax = sns.boxplot(train_df[\"LotArea\"])\n",
    "ax.set(xlabel = \"Lot Area [square feet]\")"
   ]
  },
  {
   "cell_type": "markdown",
   "metadata": {},
   "source": [
    "This looks a lot better to manage, now let's look at the scatter plot between `LotArea` and `SalePrice` again."
   ]
  },
  {
   "cell_type": "code",
   "execution_count": 142,
   "metadata": {},
   "outputs": [
    {
     "data": {
      "text/plain": [
       "<matplotlib.axes._subplots.AxesSubplot at 0x7fb2403d8940>"
      ]
     },
     "execution_count": 142,
     "metadata": {},
     "output_type": "execute_result"
    },
    {
     "data": {
      "image/png": "[encoded data removed]",
      "text/plain": [
       "<matplotlib.figure.Figure at 0x7fb2403df3c8>"
      ]
     },
     "metadata": {},
     "output_type": "display_data"
    }
   ],
   "source": [
    "sns.regplot(x=train_df[\"LotArea\"], y=train_df[\"SalePrice\"], line_kws={'color': 'red'})"
   ]
  },
  {
   "cell_type": "markdown",
   "metadata": {},
   "source": [
    "Another thing to keep note is what kind of relationship we have between two variables. Some relationships you can draw a straight line fairly easily, this one only kind of works. There seems to be more of a quadratic relationship here: the larger the lot area, the faster the sale price rises.\n",
    "\n",
    "Let's keep this is in mind when we're training our model.\n",
    "\n",
    "Now we can use our tools to look at the relationship between other variables. Let's try seeing if the year the house was sold has has any relationship."
   ]
  },
  {
   "cell_type": "code",
   "execution_count": 60,
   "metadata": {},
   "outputs": [
    {
     "data": {
      "text/plain": [
       "[Text(0,0.5,'Sale Price (USD)'), Text(0.5,0,'Year Sold')]"
      ]
     },
     "execution_count": 60,
     "metadata": {},
     "output_type": "execute_result"
    },
    {
     "data": {
      "image/png": "[encoded data removed]",
      "text/plain": [
       "<matplotlib.figure.Figure at 0x7fb24208e0b8>"
      ]
     },
     "metadata": {},
     "output_type": "display_data"
    }
   ],
   "source": [
    "ax = sns.boxplot(data=train_df.pivot(columns=\"YrSold\", values=\"SalePrice\"))\n",
    "ax.set(xlabel=\"Year Sold\", ylabel=\"Sale Price (USD)\")"
   ]
  },
  {
   "cell_type": "markdown",
   "metadata": {},
   "source": [
    "The year the house was sold doesn't seem to have much of an effect, so let's not include it in our model."
   ]
  },
  {
   "cell_type": "code",
   "execution_count": 199,
   "metadata": {},
   "outputs": [],
   "source": [
    "train_df = train_df.drop([\"YrSold\"], axis=1)"
   ]
  },
  {
   "cell_type": "markdown",
   "metadata": {},
   "source": [
    "## What's with all this square feet? (Correlated Variables)\n",
    "\n",
    "When fitting our model, we need to check if our features are correlated with each other. As an analogy, say in American football, if someone _Person A_ gets tackled by _Person B_, it's obvious that Person B was the cause. But if _Person A_ gets tackled by _Person B, C,_ and _D_, it's a lot less clear on who did contributed most to the tackle.\n",
    "\n",
    "This is known as **multicollinearity**.\n",
    "\n",
    "For our purposes, this will be useful in cutting down our feature set.\n",
    "\n",
    "For example let's look at `GrLivArea` (Above grade (ground) living area square feet), `1stFlrSF` (First Floor square feet), and `2stFlrSF`. It's rather obvious that these combinations are very correlated so we can just drop them."
   ]
  },
  {
   "cell_type": "code",
   "execution_count": 160,
   "metadata": {},
   "outputs": [
    {
     "data": {
      "text/plain": [
       "[Text(0,0.5,'1st Floor + 2nd Floor Square Footage'),\n",
       " Text(0.5,0,'Total Square Footage')]"
      ]
     },
     "execution_count": 160,
     "metadata": {},
     "output_type": "execute_result"
    },
    {
     "data": {
      "image/png": "[encoded data removed]",
      "text/plain": [
       "<matplotlib.figure.Figure at 0x7fb23e52b780>"
      ]
     },
     "metadata": {},
     "output_type": "display_data"
    }
   ],
   "source": [
    "ax = sns.regplot(x=train_df[\"GrLivArea\"], \n",
    "                 y=(train_df[\"1stFlrSF\"] + train_df[\"2ndFlrSF\"]),\n",
    "                 line_kws={'color': 'red'})\n",
    "ax.set(xlabel=\"Total Square Footage\", ylabel=\"1st Floor + 2nd Floor Square Footage\")"
   ]
  },
  {
   "cell_type": "code",
   "execution_count": 176,
   "metadata": {},
   "outputs": [],
   "source": [
    "train_df = train_df.drop([\"1stFlrSF\", \"2ndFlrSF\"], axis=1)"
   ]
  },
  {
   "cell_type": "markdown",
   "metadata": {},
   "source": [
    "# Where are all my pools? (Missing Data)\n",
    "\n",
    "It seems like whether or not a house has a pool will affect the value of a house, let's take a look at `PoolArea` and `PoolQC` (Pool Quality). "
   ]
  },
  {
   "cell_type": "code",
   "execution_count": 189,
   "metadata": {},
   "outputs": [
    {
     "data": {
      "text/plain": [
       "<matplotlib.axes._subplots.AxesSubplot at 0x7fb23e223470>"
      ]
     },
     "execution_count": 189,
     "metadata": {},
     "output_type": "execute_result"
    },
    {
     "data": {
      "image/png": "[encoded data removed]",
      "text/plain": [
       "<matplotlib.figure.Figure at 0x7fb23e28d048>"
      ]
     },
     "metadata": {},
     "output_type": "display_data"
    }
   ],
   "source": [
    "sns.regplot(x=train_df[\"PoolArea\"], y=train_df[\"SalePrice\"], fit_reg=False)"
   ]
  },
  {
   "cell_type": "markdown",
   "metadata": {},
   "source": [
    "Hey... what?\n",
    "\n",
    "Let's take a closer look."
   ]
  },
  {
   "cell_type": "code",
   "execution_count": 191,
   "metadata": {},
   "outputs": [
    {
     "data": {
      "text/html": [
       "<div>\n",
       "<style>\n",
       "    .dataframe thead tr:only-child th {\n",
       "        text-align: right;\n",
       "    }\n",
       "\n",
       "    .dataframe thead th {\n",
       "        text-align: left;\n",
       "    }\n",
       "\n",
       "    .dataframe tbody tr th {\n",
       "        vertical-align: top;\n",
       "    }\n",
       "</style>\n",
       "<table border=\"1\" class=\"dataframe\">\n",
       "  <thead>\n",
       "    <tr style=\"text-align: right;\">\n",
       "      <th></th>\n",
       "      <th>PoolArea</th>\n",
       "      <th>PoolQC</th>\n",
       "    </tr>\n",
       "  </thead>\n",
       "  <tbody>\n",
       "    <tr>\n",
       "      <th>1023</th>\n",
       "      <td>0</td>\n",
       "      <td>NaN</td>\n",
       "    </tr>\n",
       "    <tr>\n",
       "      <th>810</th>\n",
       "      <td>648</td>\n",
       "      <td>Fa</td>\n",
       "    </tr>\n",
       "    <tr>\n",
       "      <th>1384</th>\n",
       "      <td>0</td>\n",
       "      <td>NaN</td>\n",
       "    </tr>\n",
       "    <tr>\n",
       "      <th>626</th>\n",
       "      <td>0</td>\n",
       "      <td>NaN</td>\n",
       "    </tr>\n",
       "    <tr>\n",
       "      <th>813</th>\n",
       "      <td>0</td>\n",
       "      <td>NaN</td>\n",
       "    </tr>\n",
       "  </tbody>\n",
       "</table>\n",
       "</div>"
      ],
      "text/plain": [
       "      PoolArea PoolQC\n",
       "1023         0    NaN\n",
       "810        648     Fa\n",
       "1384         0    NaN\n",
       "626          0    NaN\n",
       "813          0    NaN"
      ]
     },
     "execution_count": 191,
     "metadata": {},
     "output_type": "execute_result"
    }
   ],
   "source": [
    "train_df[[\"PoolArea\", \"PoolQC\"]].head()"
   ]
  },
  {
   "cell_type": "markdown",
   "metadata": {},
   "source": [
    "The **NaN** in the data means that nothing is recorded. Don't mistaken this for zero, if you have a variable like `Age`, it means it wasn't filled out, not that they're 0 years old. So should we just remove these variables?"
   ]
  },
  {
   "cell_type": "code",
   "execution_count": 193,
   "metadata": {},
   "outputs": [
    {
     "name": "stdout",
     "output_type": "stream",
     "text": [
      "% missing = 0.999000999001\n"
     ]
    }
   ],
   "source": [
    "print(\"% missing =\", train_df[\"PoolQC\"].isnull().sum() / len(train_df))"
   ]
  },
  {
   "cell_type": "markdown",
   "metadata": {},
   "source": [
    "There are many techniques into handling missing data, the question you need to ask is **why is it missing**?\n",
    "\n",
    "In this case we only have 1 data point that tells us anything about the pool, so we'll just take it out."
   ]
  },
  {
   "cell_type": "code",
   "execution_count": 195,
   "metadata": {},
   "outputs": [],
   "source": [
    "train_df = train_df.drop([\"PoolArea\", \"PoolQC\"], axis=1)"
   ]
  },
  {
   "cell_type": "markdown",
   "metadata": {},
   "source": [
    "# Making a prediction\n",
    "\n",
    "Now this process is iterative, going through each feature until we're happy. However if I went through all 79 features, we'd be here for a while. So We'll only use a subset of our features to predict our house score.\n",
    "\n",
    "> More fireplaces means a higher value!"
   ]
  },
  {
   "cell_type": "code",
   "execution_count": 180,
   "metadata": {},
   "outputs": [
    {
     "data": {
      "text/plain": [
       "<matplotlib.axes._subplots.AxesSubplot at 0x7fb23e3e1c88>"
      ]
     },
     "execution_count": 180,
     "metadata": {},
     "output_type": "execute_result"
    },
    {
     "data": {
      "image/png": "[encoded data removed]",
      "text/plain": [
       "<matplotlib.figure.Figure at 0x7fb23e37e780>"
      ]
     },
     "metadata": {},
     "output_type": "display_data"
    }
   ],
   "source": [
    "sns.boxplot(data=train_df.pivot(columns=\"Fireplaces\", values=\"SalePrice\"))"
   ]
  },
  {
   "cell_type": "markdown",
   "metadata": {},
   "source": [
    "The features we will use are:"
   ]
  },
  {
   "cell_type": "code",
   "execution_count": 230,
   "metadata": {
    "collapsed": true
   },
   "outputs": [],
   "source": [
    "predictors = [\"LotArea\", \"GrLivArea\", \"OverallQual\", \"Fireplaces\"]"
   ]
  },
  {
   "cell_type": "code",
   "execution_count": 212,
   "metadata": {
    "collapsed": true
   },
   "outputs": [],
   "source": [
    "from sklearn.linear_model import Ridge   # Our model\n",
    "from sklearn.preprocessing import PolynomialFeatures\n",
    "from sklearn.metrics import mean_squared_error"
   ]
  },
  {
   "cell_type": "markdown",
   "metadata": {},
   "source": [
    "Remember when looking at `LotSize`, it wasn't exactly a linear relationship. Luckily we'll be able to take that into account using polynomial features! The idea is to transform our data such that our model can capture these non-linear features. Scikit-learn gives us the ability to transform with just a couple lines of code."
   ]
  },
  {
   "cell_type": "code",
   "execution_count": 214,
   "metadata": {
    "collapsed": true
   },
   "outputs": [],
   "source": [
    "poly = PolynomialFeatures()"
   ]
  },
  {
   "cell_type": "code",
   "execution_count": 235,
   "metadata": {
    "collapsed": true
   },
   "outputs": [],
   "source": [
    "final_df = poly.fit_transform(train_df[predictors])"
   ]
  },
  {
   "cell_type": "code",
   "execution_count": 236,
   "metadata": {},
   "outputs": [
    {
     "data": {
      "text/plain": [
       "Ridge(alpha=1.0, copy_X=True, fit_intercept=True, max_iter=None,\n",
       "   normalize=False, random_state=None, solver='auto', tol=0.001)"
      ]
     },
     "execution_count": 236,
     "metadata": {},
     "output_type": "execute_result"
    }
   ],
   "source": [
    "model = Ridge()\n",
    "model.fit(final_df, y=train_df[\"SalePrice\"])"
   ]
  },
  {
   "cell_type": "markdown",
   "metadata": {},
   "source": [
    "Now we can do some predictions with our validation set!"
   ]
  },
  {
   "cell_type": "code",
   "execution_count": 237,
   "metadata": {},
   "outputs": [],
   "source": [
    "predictions = model.predict(poly.fit_transform(validation_df[predictors]))"
   ]
  },
  {
   "cell_type": "markdown",
   "metadata": {},
   "source": [
    "The mean squared error essentially tells us how wrong we are with bad predictions being peanlized even more.\n",
    "\n",
    "![](images/mse.gif)"
   ]
  },
  {
   "cell_type": "code",
   "execution_count": 211,
   "metadata": {},
   "outputs": [
    {
     "data": {
      "text/plain": [
       "1775764298.7739043"
      ]
     },
     "execution_count": 211,
     "metadata": {},
     "output_type": "execute_result"
    }
   ],
   "source": [
    "mean_squared_error(validation_df[\"SalePrice\"], predictions)"
   ]
  },
  {
   "cell_type": "markdown",
   "metadata": {},
   "source": [
    "If you aren't happy with it, you can keep trying to fine tune your model, but remember the more stuff you change, the more likely you are to overfit to that dataset.\n",
    "\n",
    "For this workshop, let's go straight to predicting our test set on Kaggle."
   ]
  },
  {
   "cell_type": "code",
   "execution_count": 221,
   "metadata": {
    "collapsed": true
   },
   "outputs": [],
   "source": [
    "test_df = pd.read_csv(os.path.join(\"data\", \"test.csv\"))\n",
    "\n",
    "predictions = model.predict(poly.fit_transform(test_df[[\"LotArea\", \"GrLivArea\", \"OverallQual\", \"Fireplaces\"]]))\n",
    "\n",
    "submission = pd.DataFrame({\"Id\": test_df[\"Id\"], \"SalePrice\": predictions})\n",
    "\n",
    "submission.to_csv(\"linreg_submission.csv\", index=False)"
   ]
  },
  {
   "cell_type": "markdown",
   "metadata": {},
   "source": [
    "![](images/new_submission.png)\n",
    "\n",
    "Wow even with only a linear model and a few predictors, we did better than our neural network!"
   ]
  }
 ],
 "metadata": {
  "kernelspec": {
   "display_name": "Python 3",
   "language": "python",
   "name": "python3"
  },
  "language_info": {
   "codemirror_mode": {
    "name": "ipython",
    "version": 3
   },
   "file_extension": ".py",
   "mimetype": "text/x-python",
   "name": "python",
   "nbconvert_exporter": "python",
   "pygments_lexer": "ipython3",
   "version": "3.6.1"
  }
 },
 "nbformat": 4,
 "nbformat_minor": 2
}
